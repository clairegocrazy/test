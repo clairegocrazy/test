{
 "cells": [
  {
   "cell_type": "code",
   "execution_count": 1,
   "metadata": {},
   "outputs": [
    {
     "name": "stdout",
     "output_type": "stream",
     "text": [
      "及格\n"
     ]
    }
   ],
   "source": [
    "chinese=int(input(\"請輸入學生國文成績\"))\n",
    "if chinese>=80:\n",
    "    print(\"優良\")\n",
    "else:\n",
    "    if chinese>=60:\n",
    "        print(\"及格\")\n",
    "    else:\n",
    "        print(\"不及格\")"
   ]
  },
  {
   "cell_type": "code",
   "execution_count": 4,
   "metadata": {},
   "outputs": [
    {
     "name": "stdout",
     "output_type": "stream",
     "text": [
      "及格\n"
     ]
    }
   ],
   "source": [
    "#多項選擇\n",
    "chinese=int(input(\"請輸入學生國文成績\"))\n",
    "if chinese>=80:\n",
    "    print(\"優良\")\n",
    "elif chinese>=60:\n",
    "    print(\"及格\")\n",
    "else:\n",
    "    print(\"不及格\")        "
   ]
  },
  {
   "cell_type": "code",
   "execution_count": 5,
   "metadata": {},
   "outputs": [
    {
     "name": "stdout",
     "output_type": "stream",
     "text": [
      "丁\n"
     ]
    }
   ],
   "source": [
    "chinese=int(input(\"請輸入學生國文成績\"))\n",
    "if chinese>=90:\n",
    "    print(\"優良\")\n",
    "elif chinese>=80:\n",
    "    print(\"甲\")\n",
    "elif chinese>=70:\n",
    "    print(\"乙\")\n",
    "elif chinese>=60:\n",
    "    print(\"丙\")\n",
    "else:\n",
    "    print(\"丁\")            "
   ]
  },
  {
   "cell_type": "code",
   "execution_count": 8,
   "metadata": {},
   "outputs": [
    {
     "name": "stdout",
     "output_type": "stream",
     "text": [
      "實付金額:34200\n"
     ]
    }
   ],
   "source": [
    "money=int(input(\"請輸入顧客購買金額\"))\n",
    "if money<10000:\n",
    "    Paymoney=money\n",
    "elif money<30000:\n",
    "    Paymoney=money*0.95\n",
    "elif money<50000:\n",
    "    Paymoney=money*0.9\n",
    "elif money<100000:\n",
    "    Paymoney=money*0.85\n",
    "else:\n",
    "    Paymoney=money*0.8\n",
    "print(f\"實付金額:{round(Paymoney)}\")                    \n"
   ]
  },
  {
   "cell_type": "code",
   "execution_count": 10,
   "metadata": {},
   "outputs": [
    {
     "name": "stdout",
     "output_type": "stream",
     "text": [
      "獎金:0\n"
     ]
    }
   ],
   "source": [
    "#巢狀判斷\n",
    "chinese=int(input(\"請輸入國文分數\"))\n",
    "math=int(input(\"請輸入數學分數\"))\n",
    "if chinese==100:\n",
    "    if math==100:\n",
    "        bonus=1000\n",
    "    else:\n",
    "        bonus=500 \n",
    "else:\n",
    "    if math==100:\n",
    "        bonus=500\n",
    "    else:\n",
    "        bonus=0\n",
    "print(f\"獎金:{bonus}\")                   \n"
   ]
  },
  {
   "cell_type": "code",
   "execution_count": 11,
   "metadata": {},
   "outputs": [
    {
     "name": "stdout",
     "output_type": "stream",
     "text": [
      "獎金:0\n"
     ]
    }
   ],
   "source": [
    "#使用邏輯運算子\n",
    "#多項選擇\n",
    "chinese=int(input(\"請輸入國文分數\"))\n",
    "math=int(input(\"請輸入數學分數\"))\n",
    "if chinese==100 and math==100:\n",
    "    bonus=1000\n",
    "elif chinese==100 or math==100:\n",
    "    bonus=500\n",
    "else:\n",
    "    bonus=0\n",
    "print(f\"獎金:{bonus}\")            "
   ]
  },
  {
   "cell_type": "code",
   "execution_count": 17,
   "metadata": {},
   "outputs": [
    {
     "name": "stdout",
     "output_type": "stream",
     "text": [
      "bmi:21.513858510523864\n",
      "正常\n"
     ]
    }
   ],
   "source": [
    "height=eval(input(\"輸入身高（公分）\"))\n",
    "weight=eval(input(\"輸入體重(公斤)\"))\n",
    "bmi=weight/(height/100)**2\n",
    "if bmi<18.5:\n",
    "    result=\"過輕\"\n",
    "elif bmi<25:\n",
    "    result=\"正常\"\n",
    "elif bmi<30:\n",
    "    result=\"過重\"\n",
    "else:\n",
    "    result=\"肥胖\"            \n",
    "print(f\"bmi:{bmi}\")\n",
    "print(result)"
   ]
  }
 ],
 "metadata": {
  "kernelspec": {
   "display_name": "Python 3.13.0 64-bit",
   "language": "python",
   "name": "python3"
  },
  "language_info": {
   "codemirror_mode": {
    "name": "ipython",
    "version": 3
   },
   "file_extension": ".py",
   "mimetype": "text/x-python",
   "name": "python",
   "nbconvert_exporter": "python",
   "pygments_lexer": "ipython3",
   "version": "3.13.0"
  },
  "orig_nbformat": 4,
  "vscode": {
   "interpreter": {
    "hash": "613da7c49a73a2227936c3a44b212d9d592039352d3665b401ad64e08b70bbf9"
   }
  }
 },
 "nbformat": 4,
 "nbformat_minor": 2
}
