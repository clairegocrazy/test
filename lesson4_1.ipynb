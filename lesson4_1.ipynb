{
 "cells": [
  {
   "cell_type": "code",
   "execution_count": 1,
   "metadata": {},
   "outputs": [
    {
     "name": "stdout",
     "output_type": "stream",
     "text": [
      "對邊：800,斜邊：1000,53度\n"
     ]
    }
   ],
   "source": [
    "import math\n",
    "a=eval(input(\"請輸入直角三角形的對邊\"))\n",
    "b=eval(input(\"請輸入直角三角形的斜邊\"))\n",
    "radian=math.asin(a/b)\n",
    "degree=math.degrees(radian)\n",
    "print(f\"對邊：{a},斜邊：{b},{round(degree)}度\")"
   ]
  },
  {
   "cell_type": "code",
   "execution_count": 2,
   "metadata": {},
   "outputs": [
    {
     "name": "stdout",
     "output_type": "stream",
     "text": [
      "15\n"
     ]
    }
   ],
   "source": [
    "#複合指定運算子\n",
    "n=10\n",
    "n=n+5\n",
    "print(n)\n"
   ]
  },
  {
   "cell_type": "code",
   "execution_count": 3,
   "metadata": {},
   "outputs": [
    {
     "name": "stdout",
     "output_type": "stream",
     "text": [
      "40\n"
     ]
    }
   ],
   "source": [
    "n=10\n",
    "n+=30\n",
    "print(n)"
   ]
  },
  {
   "cell_type": "code",
   "execution_count": null,
   "metadata": {},
   "outputs": [],
   "source": [
    "total=0\n",
    "value=eval(input(\"請輸入第一個數\"))\n",
    "total+=value\n",
    "value=eval(input(\"請輸入第二個數\"))\n",
    "total+=value\n",
    "value=eval(input(\"請輸入第三個數\"))\n",
    "total+=value\n",
    "print(f\"三數總和:{total}\")"
   ]
  },
  {
   "cell_type": "code",
   "execution_count": 6,
   "metadata": {},
   "outputs": [
    {
     "name": "stdout",
     "output_type": "stream",
     "text": [
      "abcdefghijklmnopqrstuvwxyz\n"
     ]
    }
   ],
   "source": [
    "#使用複合指定運算子做字串的連結\n",
    "alphabet=\"\"\n",
    "alphabet+=\"abcde\"\n",
    "alphabet+=\"fghij\"\n",
    "alphabet+=\"klmno\"\n",
    "alphabet+=\"pqrstuv\"\n",
    "alphabet+=\"wxyz\"\n",
    "print(alphabet)"
   ]
  },
  {
   "cell_type": "code",
   "execution_count": 8,
   "metadata": {},
   "outputs": [
    {
     "name": "stdout",
     "output_type": "stream",
     "text": [
      "abcdefghijklmnopqrstuvwxyz\n"
     ]
    }
   ],
   "source": [
    "#單行文字\n",
    "alphabet1=\"abcde\\\n",
    "fghijk\\\n",
    "lmnopq\\\n",
    "rstuvwxyz\"\n",
    "print(alphabet1)            "
   ]
  },
  {
   "cell_type": "code",
   "execution_count": null,
   "metadata": {},
   "outputs": [],
   "source": []
  }
 ],
 "metadata": {
  "kernelspec": {
   "display_name": "Python 3.13.0 64-bit",
   "language": "python",
   "name": "python3"
  },
  "language_info": {
   "codemirror_mode": {
    "name": "ipython",
    "version": 3
   },
   "file_extension": ".py",
   "mimetype": "text/x-python",
   "name": "python",
   "nbconvert_exporter": "python",
   "pygments_lexer": "ipython3",
   "version": "3.13.0"
  },
  "orig_nbformat": 4,
  "vscode": {
   "interpreter": {
    "hash": "613da7c49a73a2227936c3a44b212d9d592039352d3665b401ad64e08b70bbf9"
   }
  }
 },
 "nbformat": 4,
 "nbformat_minor": 2
}
