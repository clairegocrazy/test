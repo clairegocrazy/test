{
 "cells": [
  {
   "cell_type": "code",
   "execution_count": 2,
   "metadata": {},
   "outputs": [
    {
     "name": "stdout",
     "output_type": "stream",
     "text": [
      "梯形面積＝2500.00平方公分\n"
     ]
    }
   ],
   "source": [
    "top=int(input())\n",
    "bottom=int(input())\n",
    "height=int(input())\n",
    "area=(top+bottom)*height/2\n",
    "print(f\"梯形面積＝{area:.2f}平方公分\")"
   ]
  },
  {
   "cell_type": "code",
   "execution_count": 5,
   "metadata": {},
   "outputs": [
    {
     "name": "stdout",
     "output_type": "stream",
     "text": [
      "圓柱體的體積:2670356.77\n"
     ]
    }
   ],
   "source": [
    "PI=3.1415962\n",
    "r=int(input())\n",
    "h=int(input())\n",
    "print(f\"圓柱體的體積:{r**2*PI*h}\")"
   ]
  },
  {
   "cell_type": "code",
   "execution_count": 7,
   "metadata": {},
   "outputs": [
    {
     "name": "stdout",
     "output_type": "stream",
     "text": [
      "5.0\n"
     ]
    }
   ],
   "source": [
    "#求斜邊\n",
    "import math\n",
    "a=int(input(\"請輸入對邊：\"))\n",
    "b=int(input(\"請輸入鄰邊：\"))\n",
    "c=math.sqrt(a**2+b**2)\n",
    "print(c)"
   ]
  }
 ],
 "metadata": {
  "kernelspec": {
   "display_name": "Python 3.13.0 64-bit",
   "language": "python",
   "name": "python3"
  },
  "language_info": {
   "codemirror_mode": {
    "name": "ipython",
    "version": 3
   },
   "file_extension": ".py",
   "mimetype": "text/x-python",
   "name": "python",
   "nbconvert_exporter": "python",
   "pygments_lexer": "ipython3",
   "version": "3.13.0"
  },
  "orig_nbformat": 4,
  "vscode": {
   "interpreter": {
    "hash": "613da7c49a73a2227936c3a44b212d9d592039352d3665b401ad64e08b70bbf9"
   }
  }
 },
 "nbformat": 4,
 "nbformat_minor": 2
}
