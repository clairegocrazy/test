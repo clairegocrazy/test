{
 "cells": [
  {
   "cell_type": "code",
   "execution_count": 3,
   "metadata": {},
   "outputs": [
    {
     "name": "stdout",
     "output_type": "stream",
     "text": [
      "85\n"
     ]
    }
   ],
   "source": [
    "#學生總分為300\n",
    "#有些學生可以+5%\n",
    "#如果加分後超過300分就以300分為準\n",
    "scores=int(input(\"請輸入學生分數\"))\n",
    "is_add=input(\"學生是否符合加分條件(y,n)\")\n",
    "if (is_add==\"y\"): #單項選擇\n",
    "    scores*=1.05\n",
    "    if scores>300:\n",
    "        scores=300\n",
    "\n",
    "    \n",
    "print(round(scores))    "
   ]
  },
  {
   "cell_type": "code",
   "execution_count": null,
   "metadata": {},
   "outputs": [],
   "source": [
    "#雙向選擇\n",
    "math=int(input(\"請輸入學生數學分數\"))\n",
    "if math>=60:\n",
    "    print(\"及格\")\n",
    "else:\n",
    "    print(\"不及格\")    "
   ]
  },
  {
   "cell_type": "code",
   "execution_count": 6,
   "metadata": {},
   "outputs": [
    {
     "name": "stdout",
     "output_type": "stream",
     "text": [
      "普通\n"
     ]
    }
   ],
   "source": [
    "math=int(input(\"請輸入學生數學分數\"))\n",
    "if math<60:\n",
    "    print(\"不及格\")\n",
    "else:\n",
    "    if math<80:\n",
    "        print(\"普通\")\n",
    "    else:\n",
    "        print(\"優\")        "
   ]
  }
 ],
 "metadata": {
  "kernelspec": {
   "display_name": "Python 3.13.0 64-bit",
   "language": "python",
   "name": "python3"
  },
  "language_info": {
   "codemirror_mode": {
    "name": "ipython",
    "version": 3
   },
   "file_extension": ".py",
   "mimetype": "text/x-python",
   "name": "python",
   "nbconvert_exporter": "python",
   "pygments_lexer": "ipython3",
   "version": "3.13.0"
  },
  "orig_nbformat": 4,
  "vscode": {
   "interpreter": {
    "hash": "613da7c49a73a2227936c3a44b212d9d592039352d3665b401ad64e08b70bbf9"
   }
  }
 },
 "nbformat": 4,
 "nbformat_minor": 2
}
