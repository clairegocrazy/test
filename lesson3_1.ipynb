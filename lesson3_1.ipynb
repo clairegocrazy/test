{
 "cells": [
  {
   "cell_type": "code",
   "execution_count": 2,
   "metadata": {},
   "outputs": [
    {
     "name": "stdout",
     "output_type": "stream",
     "text": [
      "30\n",
      "35\n",
      "total=65\n"
     ]
    }
   ],
   "source": [
    "m=30\n",
    "print(m)\n",
    "\n",
    "n=35\n",
    "print(n)\n",
    "\n",
    "total=m+n\n",
    "print(\"total=\"+str(total))\n",
    "\n"
   ]
  },
  {
   "cell_type": "code",
   "execution_count": 3,
   "metadata": {},
   "outputs": [
    {
     "name": "stdout",
     "output_type": "stream",
     "text": [
      "35+30=65\n"
     ]
    }
   ],
   "source": [
    "#使用一個字串補建立一個字串\n",
    "print(f\"{n}+{m}={total}\")"
   ]
  },
  {
   "cell_type": "code",
   "execution_count": 5,
   "metadata": {},
   "outputs": [
    {
     "name": "stdout",
     "output_type": "stream",
     "text": [
      "PI=3.14159623\n",
      "PI=3.14\n",
      "PI=3.142\n"
     ]
    }
   ],
   "source": [
    "PI=3.14159623\n",
    "print(f'PI={PI}')\n",
    "print(f'PI={PI:.2f}')\n",
    "print(f'PI={PI:.3f}')"
   ]
  },
  {
   "cell_type": "code",
   "execution_count": 6,
   "metadata": {},
   "outputs": [
    {
     "name": "stdout",
     "output_type": "stream",
     "text": [
      "兩數相加=4686\n"
     ]
    }
   ],
   "source": [
    "s1=input()\n",
    "s2=input()\n",
    "s3=int(s1)+int(s2)\n",
    "print(f\"兩數相加={s3}\")"
   ]
  },
  {
   "cell_type": "code",
   "execution_count": 7,
   "metadata": {},
   "outputs": [
    {
     "name": "stdout",
     "output_type": "stream",
     "text": [
      "兩數相加=3350\n"
     ]
    }
   ],
   "source": [
    "s1=int(input())\n",
    "s2=int(input())\n",
    "s3=s1+s2\n",
    "print(f\"兩數相加={s3}\")"
   ]
  },
  {
   "cell_type": "code",
   "execution_count": 11,
   "metadata": {},
   "outputs": [
    {
     "name": "stdout",
     "output_type": "stream",
     "text": [
      "商＝50,餘數＝0\n"
     ]
    }
   ],
   "source": [
    "m=int(input(\"請輸入被除數(整數)\"))\n",
    "n=int(input(\"請輸入除數(整數,但不為0)\"))\n",
    "print(f\"商＝{m//n},餘數＝{m%n}\")"
   ]
  }
 ],
 "metadata": {
  "kernelspec": {
   "display_name": "Python 3.13.0 64-bit",
   "language": "python",
   "name": "python3"
  },
  "language_info": {
   "codemirror_mode": {
    "name": "ipython",
    "version": 3
   },
   "file_extension": ".py",
   "mimetype": "text/x-python",
   "name": "python",
   "nbconvert_exporter": "python",
   "pygments_lexer": "ipython3",
   "version": "3.13.0"
  },
  "orig_nbformat": 4,
  "vscode": {
   "interpreter": {
    "hash": "613da7c49a73a2227936c3a44b212d9d592039352d3665b401ad64e08b70bbf9"
   }
  }
 },
 "nbformat": 4,
 "nbformat_minor": 2
}
